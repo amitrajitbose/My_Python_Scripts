{
 "cells": [
  {
   "cell_type": "markdown",
   "metadata": {},
   "source": [
    "#### _Author: Sivangi Tandon_ \n",
    "#### _Author: Amitrajit Bose_"
   ]
  },
  {
   "cell_type": "code",
   "execution_count": 2,
   "metadata": {},
   "outputs": [],
   "source": [
    "from PIL import Image\n",
    "import numpy as np\n",
    "import os\n",
    "allimages=[]\n",
    "filelist=os.listdir(r\"C:\\Users\\%USERPROFILE%\\Documents\\Sample\") #this is the folder containing the images\n",
    "for i in filelist:\n",
    "    img = Image.open(r\"C:\\Users\\%USERPROFILE%\\Documents\\Sample\\\\\"+str(i))\n",
    "    img.load()\n",
    "    img_arr = np.array(img)\n",
    "    allimages.append(img_arr)\n",
    "    \n",
    "\n",
    "'''This is a numpy array that contains all 3D images'''\n",
    "all3dimages=np.array(allimages)\n",
    "all2dimages=[]\n",
    "for i in allimages:\n",
    "    firstparam=(i.shape[0])\n",
    "    if(firstparam==1333):\n",
    "        i=i.reshape(1333,2379)\n",
    "    elif(firstparam==1167):\n",
    "        i=i.reshape(1167,2160)\n",
    "    all2dimages.append(i)\n",
    "\n",
    "'''This is a numpy array that contains all 2D images'''\n",
    "all2dimages=np.array(all2dimages)\n",
    "\n"
   ]
  },
  {
   "cell_type": "markdown",
   "metadata": {},
   "source": [
    "#### In my case, I used seven images to test this script, which were not of same dimensions. Some images were 1167x720x3 which were made to 1167x2160, whereas some images were 1333x793x3 which were reshaped to 1333x2379. You have to test and customize this according to your data which might have different requirements."
   ]
  }
 ],
 "metadata": {
  "kernelspec": {
   "display_name": "Python 3",
   "language": "python",
   "name": "python3"
  },
  "language_info": {
   "codemirror_mode": {
    "name": "ipython",
    "version": 3
   },
   "file_extension": ".py",
   "mimetype": "text/x-python",
   "name": "python",
   "nbconvert_exporter": "python",
   "pygments_lexer": "ipython3",
   "version": "3.6.1"
  }
 },
 "nbformat": 4,
 "nbformat_minor": 1
}
